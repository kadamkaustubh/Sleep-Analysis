{
 "cells": [
  {
   "cell_type": "markdown",
   "metadata": {
    "slideshow": {
     "slide_type": "slide"
    }
   },
   "source": [
    "# Niyati's Sleep Analysis\n",
    "Niyati's sleep data from Feb, 1 to May, 31 as collected by her Fitbit  \n",
    "\n",
    "**Objectives**: \n",
    "1. Gain insight into Niyati's Sleeping patterns\n",
    "2. Learn to use and implement python's statistical tools"
   ]
  },
  {
   "cell_type": "markdown",
   "metadata": {
    "nbpresent": {
     "id": "b23dff09-77a4-41ec-a38a-5f409a1d8499"
    },
    "slideshow": {
     "slide_type": "subslide"
    }
   },
   "source": [
    "Questions I'm trying to answer:\n",
    "* General data collection. \n",
    "    1. How long does she normally sleep? \n",
    "    2. When does she go to bed? etc."
   ]
  },
  {
   "cell_type": "markdown",
   "metadata": {
    "nbpresent": {
     "id": "651df863-14f7-4b3e-8e4d-7c3503e9d933"
    },
    "slideshow": {
     "slide_type": "fragment"
    }
   },
   "source": [
    "* Getting more insight.\n",
    "    1. Using the collected data, can we speculate what the ideal sleep period can be?\n",
    "    2. What should be the ideal bedtime?"
   ]
  },
  {
   "cell_type": "markdown",
   "metadata": {
    "nbpresent": {
     "id": "18429458-644c-4f45-88fa-df33d7fbf32a"
    },
    "slideshow": {
     "slide_type": "fragment"
    }
   },
   "source": [
    "* Sleep Stages.\n",
    "    1. How does the amount of sleep affect the quality of sleep?"
   ]
  },
  {
   "cell_type": "code",
   "execution_count": 41,
   "metadata": {
    "collapsed": true,
    "nbpresent": {
     "id": "ea98064a-6d7b-450a-a995-3f69a34cb9cf"
    },
    "slideshow": {
     "slide_type": "skip"
    }
   },
   "outputs": [],
   "source": [
    "#import relevant librabries\n",
    "import numpy as np\n",
    "import pandas as pd\n",
    "import matplotlib.pyplot as plt\n",
    "%matplotlib inline\n",
    "import requests\n",
    "from bs4 import BeautifulSoup as bs\n",
    "import seaborn as sns\n",
    "import datetime as dt\n",
    "from matplotlib import gridspec\n",
    "from matplotlib import dates\n",
    "from scipy.stats import linregress\n",
    "from scipy import stats"
   ]
  },
  {
   "cell_type": "code",
   "execution_count": 42,
   "metadata": {
    "nbpresent": {
     "id": "62db6302-c3a7-47b1-bdf3-82ca06aab1e6"
    },
    "slideshow": {
     "slide_type": "skip"
    }
   },
   "outputs": [
    {
     "name": "stdout",
     "output_type": "stream",
     "text": [
      "(105, 9)\n"
     ]
    },
    {
     "data": {
      "text/plain": [
       "Index(['Start Time', 'End Time', 'Minutes Asleep', 'Minutes Awake',\n",
       "       'Number of Awakenings', 'Time in Bed', 'Minutes REM Sleep',\n",
       "       'Minutes Light Sleep', 'Minutes Deep Sleep'],\n",
       "      dtype='object')"
      ]
     },
     "execution_count": 42,
     "metadata": {},
     "output_type": "execute_result"
    }
   ],
   "source": [
    "sleep=pd.read_csv('niyatisleep.csv',header=0)\n",
    "sleep=sleep.dropna(axis=0, how='any')\n",
    "print(sleep.shape)\n",
    "sleep.keys()"
   ]
  },
  {
   "cell_type": "markdown",
   "metadata": {
    "nbpresent": {
     "id": "d66f70b0-c6e1-4a99-9525-2c065f28b052"
    },
    "slideshow": {
     "slide_type": "slide"
    }
   },
   "source": [
    "## Data imported from Fitbit:\n",
    "``` python \n",
    "['Start Time', 'End Time', 'Minutes Asleep', 'Minutes Awake','Number of Awakenings',\n",
    " 'Time in Bed', 'Minutes REM Sleep','Minutes Light Sleep', 'Minutes Deep Sleep']\n",
    "```"
   ]
  },
  {
   "cell_type": "markdown",
   "metadata": {
    "nbpresent": {
     "id": "769829ce-e3a7-4722-9ae5-cbe3f7e93f9b"
    },
    "slideshow": {
     "slide_type": "fragment"
    }
   },
   "source": [
    "However, this data needs to be cleaned before we can apply some features."
   ]
  },
  {
   "cell_type": "markdown",
   "metadata": {
    "nbpresent": {
     "id": "787bf6c6-480f-40c5-aa0a-916a68bd3a9d"
    },
    "slideshow": {
     "slide_type": "subslide"
    }
   },
   "source": [
    "Here we convert the timestamps into python's datetime objects, sort the data chronologically, define days of the week and assign a timecode to sleep time and wake time."
   ]
  },
  {
   "cell_type": "code",
   "execution_count": 43,
   "metadata": {
    "collapsed": true,
    "nbpresent": {
     "id": "49f275c9-bdb5-45cb-a8bd-9ed2e558a1bd"
    },
    "slideshow": {
     "slide_type": "fragment"
    }
   },
   "outputs": [],
   "source": [
    "# Convert Start time and End time into python compatible datetime entries\n",
    "sleep['Start Time']=[dt.datetime.strptime(sleep.loc[i,'Start Time'],'%Y-%m-%d %I:%M%p') for i in sleep.index]\n",
    "sleep['End Time']=[dt.datetime.strptime(sleep.loc[i,'End Time'],'%Y-%m-%d %I:%M%p') for i in sleep.index]\n",
    "#chronological sort\n",
    "sleep=sleep.sort_values(by='Start Time')\n",
    "#Define Days of the week\n",
    "sleep['Day']=[sleep.loc[i,'End Time'].strftime('%A') for i in sleep.index]\n",
    "#Adding time objects\n",
    "sleep['Sleep Time']=[sleep.loc[i,'Start Time'].time() for i in sleep.index]\n",
    "sleep['Wake Time']=[sleep.loc[i,'End Time'].time() for i in sleep.index]"
   ]
  },
  {
   "cell_type": "markdown",
   "metadata": {
    "nbpresent": {
     "id": "131a2acd-a716-429d-b77a-ad5e983f365d"
    },
    "slideshow": {
     "slide_type": "subslide"
    }
   },
   "source": [
    "### A sample of the data available from Fitbit and additional data extracted for analysis"
   ]
  },
  {
   "cell_type": "code",
   "execution_count": 44,
   "metadata": {
    "nbpresent": {
     "id": "e34e2df4-6289-4b84-afb4-17958e4b1cc8"
    },
    "slideshow": {
     "slide_type": "fragment"
    }
   },
   "outputs": [
    {
     "data": {
      "text/html": [
       "<div>\n",
       "<table border=\"1\" class=\"dataframe\">\n",
       "  <thead>\n",
       "    <tr style=\"text-align: right;\">\n",
       "      <th></th>\n",
       "      <th>Start Time</th>\n",
       "      <th>End Time</th>\n",
       "      <th>Minutes Asleep</th>\n",
       "      <th>Minutes Awake</th>\n",
       "      <th>Number of Awakenings</th>\n",
       "      <th>Time in Bed</th>\n",
       "      <th>Minutes REM Sleep</th>\n",
       "      <th>Minutes Light Sleep</th>\n",
       "      <th>Minutes Deep Sleep</th>\n",
       "      <th>Day</th>\n",
       "      <th>Sleep Time</th>\n",
       "      <th>Wake Time</th>\n",
       "    </tr>\n",
       "  </thead>\n",
       "  <tbody>\n",
       "    <tr>\n",
       "      <th>28</th>\n",
       "      <td>2018-02-01 00:15:00</td>\n",
       "      <td>2018-02-01 07:29:00</td>\n",
       "      <td>376</td>\n",
       "      <td>58</td>\n",
       "      <td>26</td>\n",
       "      <td>434</td>\n",
       "      <td>115.0</td>\n",
       "      <td>159.0</td>\n",
       "      <td>102.0</td>\n",
       "      <td>Thursday</td>\n",
       "      <td>00:15:00</td>\n",
       "      <td>07:29:00</td>\n",
       "    </tr>\n",
       "    <tr>\n",
       "      <th>27</th>\n",
       "      <td>2018-02-02 00:36:00</td>\n",
       "      <td>2018-02-02 07:02:00</td>\n",
       "      <td>323</td>\n",
       "      <td>63</td>\n",
       "      <td>25</td>\n",
       "      <td>386</td>\n",
       "      <td>36.0</td>\n",
       "      <td>229.0</td>\n",
       "      <td>58.0</td>\n",
       "      <td>Friday</td>\n",
       "      <td>00:36:00</td>\n",
       "      <td>07:02:00</td>\n",
       "    </tr>\n",
       "    <tr>\n",
       "      <th>26</th>\n",
       "      <td>2018-02-03 00:36:00</td>\n",
       "      <td>2018-02-03 08:33:00</td>\n",
       "      <td>434</td>\n",
       "      <td>43</td>\n",
       "      <td>21</td>\n",
       "      <td>477</td>\n",
       "      <td>96.0</td>\n",
       "      <td>253.0</td>\n",
       "      <td>85.0</td>\n",
       "      <td>Saturday</td>\n",
       "      <td>00:36:00</td>\n",
       "      <td>08:33:00</td>\n",
       "    </tr>\n",
       "    <tr>\n",
       "      <th>25</th>\n",
       "      <td>2018-02-04 01:42:00</td>\n",
       "      <td>2018-02-04 09:12:00</td>\n",
       "      <td>378</td>\n",
       "      <td>72</td>\n",
       "      <td>26</td>\n",
       "      <td>450</td>\n",
       "      <td>109.0</td>\n",
       "      <td>199.0</td>\n",
       "      <td>70.0</td>\n",
       "      <td>Sunday</td>\n",
       "      <td>01:42:00</td>\n",
       "      <td>09:12:00</td>\n",
       "    </tr>\n",
       "    <tr>\n",
       "      <th>24</th>\n",
       "      <td>2018-02-04 23:05:00</td>\n",
       "      <td>2018-02-05 07:06:00</td>\n",
       "      <td>428</td>\n",
       "      <td>53</td>\n",
       "      <td>28</td>\n",
       "      <td>481</td>\n",
       "      <td>121.0</td>\n",
       "      <td>190.0</td>\n",
       "      <td>117.0</td>\n",
       "      <td>Monday</td>\n",
       "      <td>23:05:00</td>\n",
       "      <td>07:06:00</td>\n",
       "    </tr>\n",
       "  </tbody>\n",
       "</table>\n",
       "</div>"
      ],
      "text/plain": [
       "            Start Time            End Time  Minutes Asleep  Minutes Awake  \\\n",
       "28 2018-02-01 00:15:00 2018-02-01 07:29:00             376             58   \n",
       "27 2018-02-02 00:36:00 2018-02-02 07:02:00             323             63   \n",
       "26 2018-02-03 00:36:00 2018-02-03 08:33:00             434             43   \n",
       "25 2018-02-04 01:42:00 2018-02-04 09:12:00             378             72   \n",
       "24 2018-02-04 23:05:00 2018-02-05 07:06:00             428             53   \n",
       "\n",
       "    Number of Awakenings  Time in Bed  Minutes REM Sleep  Minutes Light Sleep  \\\n",
       "28                    26          434              115.0                159.0   \n",
       "27                    25          386               36.0                229.0   \n",
       "26                    21          477               96.0                253.0   \n",
       "25                    26          450              109.0                199.0   \n",
       "24                    28          481              121.0                190.0   \n",
       "\n",
       "    Minutes Deep Sleep       Day Sleep Time Wake Time  \n",
       "28               102.0  Thursday   00:15:00  07:29:00  \n",
       "27                58.0    Friday   00:36:00  07:02:00  \n",
       "26                85.0  Saturday   00:36:00  08:33:00  \n",
       "25                70.0    Sunday   01:42:00  09:12:00  \n",
       "24               117.0    Monday   23:05:00  07:06:00  "
      ]
     },
     "execution_count": 44,
     "metadata": {},
     "output_type": "execute_result"
    }
   ],
   "source": [
    "sleep.head(5)"
   ]
  },
  {
   "cell_type": "code",
   "execution_count": 45,
   "metadata": {
    "collapsed": true,
    "nbpresent": {
     "id": "f99f5f23-b78c-49a5-a483-72990443eb50"
    },
    "slideshow": {
     "slide_type": "skip"
    }
   },
   "outputs": [],
   "source": [
    "daymean=sleep.groupby(['Day']).mean()['Minutes Asleep']\n",
    "daymedian=sleep.groupby(['Day']).median()['Minutes Asleep']\n",
    "daydev=sleep.groupby(['Day']).std()['Minutes Asleep']"
   ]
  },
  {
   "cell_type": "markdown",
   "metadata": {
    "nbpresent": {
     "id": "61aa3793-d539-48e9-9e0f-8215780c13c0"
    },
    "slideshow": {
     "slide_type": "slide"
    }
   },
   "source": [
    "## Sleep according to the day of the week"
   ]
  },
  {
   "cell_type": "code",
   "execution_count": 46,
   "metadata": {
    "nbpresent": {
     "id": "4a84008b-eca0-4d1e-820d-5ff6b2f4d3ae"
    },
    "slideshow": {
     "slide_type": "skip"
    }
   },
   "outputs": [
    {
     "data": {
      "image/png": "[encoded data removed]",
      "text/plain": [
       "<matplotlib.figure.Figure at 0x18bfbf5a6d8>"
      ]
     },
     "metadata": {},
     "output_type": "display_data"
    }
   ],
   "source": [
    "sns.set_style(\"whitegrid\")\n",
    "daysorder=['Monday','Tuesday','Wednesday','Thursday','Friday','Saturday','Sunday']\n",
    "ax = sns.barplot(x='Day',y='Minutes Asleep',capsize=0.2,order=daysorder,data=sleep)\n",
    "axis=ax.axes\n",
    "axis.set_ylim(320,422)\n",
    "hourticks=np.array([330+30*i for i in range(4)])\n",
    "axis.set_yticks(hourticks)\n",
    "axis.set_yticklabels(hourticks/60)\n",
    "axis.set_ylabel('Hours Asleep')\n",
    "plt.savefig('daysleep.png', bbox_inches='tight')"
   ]
  },
  {
   "cell_type": "markdown",
   "metadata": {
    "nbpresent": {
     "id": "39929644-9472-44a4-aaff-2e9219531c79"
    },
    "slideshow": {
     "slide_type": "fragment"
    }
   },
   "source": [
    "<img src=\"daysleep.png\" alt=\"Barplot of sleep vs Day of the week\" class=\"center\">\n",
    "There is no significant predictable variation in hours asleep depending on the day of the week. The lack of a 9-5 work schedule is primarily resposible for the lack of the typical sleeping pattern of less sleep during weekdays and more during weeekends. Median hours asleep fall in a tight 30 minute window."
   ]
  },
  {
   "cell_type": "code",
   "execution_count": 47,
   "metadata": {
    "nbpresent": {
     "id": "11c700bf-1510-4d5a-ae38-c5fb863c5650"
    },
    "slideshow": {
     "slide_type": "skip"
    }
   },
   "outputs": [
    {
     "data": {
      "image/png": "[encoded data removed]",
      "text/plain": [
       "<matplotlib.figure.Figure at 0x18bfbed77f0>"
      ]
     },
     "metadata": {},
     "output_type": "display_data"
    }
   ],
   "source": [
    "f=plt.figure(figsize=(14,6))\n",
    "sns.set_style(\"darkgrid\")\n",
    "gs = gridspec.GridSpec(1,2,wspace=0.0, width_ratios=[4, 10]) \n",
    "ax= plt.subplot(gs[0,0])\n",
    "ax.scatter(list(sleep['Sleep Time']),sleep['Minutes Asleep']/60,color='tab:blue',label='Bed Time')\n",
    "ax.set_xlim([dt.time(20, 0), dt.time(23,59,59)])\n",
    "ax.set_xticks([dt.time.strftime(dt.time(i, 0),'%H:%M') for i in range(20,24)])\n",
    "ax.set_xticklabels([dt.time.strftime(dt.time(i, 0),'%H:%M') for i in range(20,24)])\n",
    "ax.tick_params(axis='both', which='major', labelsize=12)\n",
    "ax.set_ylim([3,9])\n",
    "ax.set_yticks(range(4,9))\n",
    "plt.xlabel('')\n",
    "ax.set_ylabel('Hours Asleep', fontsize=15)\n",
    "ax2=plt.subplot(gs[0,1])\n",
    "ax2.scatter(list(sleep['Sleep Time']),sleep['Minutes Asleep']/60,color='tab:blue',label='Bed Time')\n",
    "ax2.scatter(list(sleep['Wake Time']),sleep['Minutes Asleep']/60,color='tab:green',label='Wake Time')\n",
    "ax2.set_xlim([dt.time(0, 0), dt.time(10,0)])\n",
    "ax2.set_ylim([3,9])\n",
    "ax2.set_xticks([dt.time(i, 0) for i in range(11)])\n",
    "ax2.set_xticklabels([dt.time.strftime(dt.time(i, 0),'%H:%M') for i in range(11)])\n",
    "ax2.set_yticklabels([])\n",
    "ax2.tick_params(axis='both', which='major', labelsize=12)\n",
    "plt.legend(loc='upper center',fontsize=15)\n",
    "plt.xlabel('')\n",
    "plt.tight_layout()\n",
    "plt.savefig('hoursawake.png', bbox_inches='tight')"
   ]
  },
  {
   "cell_type": "markdown",
   "metadata": {
    "nbpresent": {
     "id": "594342dc-77a3-4a74-b2b3-e4db7044b2a3"
    },
    "slideshow": {
     "slide_type": "slide"
    }
   },
   "source": [
    "## Bedtime and Waketime distribution\n",
    "<img src=\"hoursawake.png\" alt=\"distribution of bettime and waketime\" class=\"center\">\n",
    "<center>There is a clear inverse relationship between the bedtime and hours asleep. The earlier you sleep, you end up actually sleeping more than you usually would. The ideal bedtime window lies between 11PM and 1AM, which will most likely end up providing the necessary 6-7 hours of sleep. 'Waking up' most likely is a function of bedtime and hours of sleep required; Niyati doesn't really use an alarm to wake up on most days which might explain the wider variation.</center>"
   ]
  },
  {
   "cell_type": "markdown",
   "metadata": {
    "nbpresent": {
     "id": "22a3bd2e-d9a1-47b4-b5a0-00955098a410"
    },
    "slideshow": {
     "slide_type": "subslide"
    }
   },
   "source": [
    "<h3> <center> Quantifying Bed time </center> </h3>\n",
    "Time was converted to minutes from midnight whichallowed me to run a regression analysis on Bed time."
   ]
  },
  {
   "cell_type": "code",
   "execution_count": 48,
   "metadata": {
    "collapsed": true,
    "nbpresent": {
     "id": "df7b3e27-68bf-46d1-96b3-ddd00e7441d4"
    },
    "slideshow": {
     "slide_type": "fragment"
    }
   },
   "outputs": [],
   "source": [
    "time=pd.DataFrame()\n",
    "time['Hours Asleep']=sleep['Minutes Asleep']/60\n",
    "time['Sleep Time']=sleep['Sleep Time']\n",
    "time['minutes']=0\n",
    "for i in time.index:\n",
    "    time.loc[i,'minutes']=time.loc[i,'Sleep Time'].hour*60+time.loc[i,'Sleep Time'].minute\n",
    "    if time.loc[i,'minutes']>1000:\n",
    "        time.loc[i,'minutes']=time.loc[i,'minutes']-24*60"
   ]
  },
  {
   "cell_type": "code",
   "execution_count": 49,
   "metadata": {
    "nbpresent": {
     "id": "edc37caf-4fb9-4e77-ab85-005afb2426d6"
    },
    "slideshow": {
     "slide_type": "slide"
    }
   },
   "outputs": [
    {
     "data": {
      "image/png": "[encoded data removed]",
      "text/plain": [
       "<matplotlib.figure.Figure at 0x18bfbeb8fd0>"
      ]
     },
     "metadata": {},
     "output_type": "display_data"
    }
   ],
   "source": [
    "sns.set_style(\"darkgrid\")\n",
    "g = sns.JointGrid(x=\"minutes\", y=\"Hours Asleep\", data=time, ratio=100)\n",
    "g.plot_joint(sns.regplot)\n",
    "g.annotate(stats.pearsonr,fontsize=14)\n",
    "g.ax_marg_x.set_axis_off()\n",
    "g.ax_marg_y.set_axis_off()\n",
    "plt.xticks([-240+60*i for i in range(9)]);\n",
    "g.set_axis_labels('Time', 'Hours Asleep')\n",
    "g.fig.set_figheight(6)\n",
    "g.fig.set_figwidth(8)\n",
    "g.ax_joint.set_xticklabels([dt.time.strftime(dt.time(i, 0),'%H:%M') for i in range(20,24)]+\n",
    "                           [dt.time.strftime(dt.time(i, 0),'%H:%M') for i in range(5)]);\n",
    "plt.savefig('bedtimeregression.png', bbox_inches='tight')"
   ]
  },
  {
   "cell_type": "markdown",
   "metadata": {
    "slideshow": {
     "slide_type": "subslide"
    }
   },
   "source": [
    "<img src='bedtimeregression.png' alt='Regression analysis on bedtime' class='center'>\n",
    "Pearson correlation points to the previously hypothesized inverserelationship between bedtime and sleep duration. Even though the R value is relatively low due to the variation in data, P value significantly smaller than 0.05 does suggest that null hypothesis is certainly false, i.e. a strong correlation exists between Bed time and hours of sleep."
   ]
  },
  {
   "cell_type": "markdown",
   "metadata": {
    "slideshow": {
     "slide_type": "slide"
    }
   },
   "source": [
    "<h2> Sleep Stages </h2>\n",
    "Sleep can be broken down into 4 stages:  \n",
    "### 1. Awake\n",
    "You are awake in bed ready to fall asleep or something disturbs you during the night like the room being too cold or too hot. This usually accounts for about an hour of the total time you're in bed.  \n",
    "### 2. Light Sleep\n",
    "Light sleep accounts for about 50% of your total sleep. It’s when your body processes memories and emotions and your metabolism regulates itself. So there’s a lot of body maintenance occurring during lighter stages of sleep. Breathing and heart rate typically decrease slightly during this stage."
   ]
  },
  {
   "cell_type": "markdown",
   "metadata": {
    "slideshow": {
     "slide_type": "subslide"
    }
   },
   "source": [
    "<h2> Sleep Stages </h2>\n",
    "Sleep can be broken down into 4 stages:  \n",
    "### 3. Deep Sleep\n",
    "During deep sleep, you become less responsive to outside stimuli. Breathing slows and muscles relax; heart rate usually becomes more regular. Your muscles are very relaxed. You’re not dreaming at all during this time. Your body is doing a lot of rebuilding and repairing. Deep sleep is when your body secretes growth hormone, which is associated with cellular rebuilding and repair.  \n",
    "### 4. REM Sleep (Rapid Eye Movement)\n",
    "If deep sleep is about body, REM is about the brain. The brain is very active during REM sleep, yet the body is very inactive. REM is when most dreaming happens and your eyes move rapidly in different directions. Heart rate increases and your breathing becomes more irregular. REM is very important for emotion regulation and memory; you’re clearing the brain of things that aren’t needed. It’s also the peak of protein synthesis at the cellular level, which keeps many processes in the body working properly."
   ]
  },
  {
   "cell_type": "markdown",
   "metadata": {
    "slideshow": {
     "slide_type": "slide"
    }
   },
   "source": [
    "## Sleep Stages\n",
    "For the best, most rejuvinating night of sleep, we need to maximmize the time we spend in Deep Sleep and REM Sleep. From our previous analysis we found 6-7 hours to be the ideal sleep time for Niyati. So how does that compare to the quality of sleep?  \n",
    "To Understand that, we've broken the data into 3 tranches; \n",
    "   * below 6 hours, \n",
    "   * between 6-7 hours and \n",
    "   * above 7 hours  \n",
    "\n",
    "to identify which days she slept less or more than ususal."
   ]
  },
  {
   "cell_type": "code",
   "execution_count": 50,
   "metadata": {
    "collapsed": true,
    "nbpresent": {
     "id": "748ea25b-c3a6-4e95-9400-1e903364cd24"
    },
    "slideshow": {
     "slide_type": "fragment"
    }
   },
   "outputs": [],
   "source": [
    "stage=pd.DataFrame()\n",
    "stage['REM']=sleep['Minutes REM Sleep']/sleep['Time in Bed']*100\n",
    "stage['Light']=sleep['Minutes Light Sleep']/sleep['Time in Bed']*100\n",
    "stage['Deep']=sleep['Minutes Deep Sleep']/sleep['Time in Bed']*100\n",
    "stage['Awake']=sleep['Minutes Awake']/sleep['Time in Bed']*100\n",
    "stage['Quality']='6-7 hours'\n",
    "for i in stage.index:\n",
    "    if sleep.loc[i,'Minutes Asleep']/60<=6:\n",
    "        stage.loc[i,'Quality']='less than 6'\n",
    "    elif sleep.loc[i,'Minutes Asleep']/60>7:\n",
    "        stage.loc[i,'Quality']='more than 7'"
   ]
  },
  {
   "cell_type": "code",
   "execution_count": 51,
   "metadata": {
    "collapsed": true,
    "nbpresent": {
     "id": "99aca59c-d9fc-4707-8397-51cb207678fd"
    },
    "slideshow": {
     "slide_type": "skip"
    }
   },
   "outputs": [],
   "source": [
    "stage1=pd.DataFrame()\n",
    "stage1['Value']=stage['REM']\n",
    "stage1['Stage']='REM'\n",
    "stage1['Quality']=stage['Quality']\n",
    "stage2=pd.DataFrame()\n",
    "stage2['Value']=stage['Light']\n",
    "stage2['Quality']=stage['Quality']\n",
    "stage2['Stage']='Light'\n",
    "stage3=pd.DataFrame()\n",
    "stage3['Value']=stage['Deep']\n",
    "stage3['Quality']=stage['Quality']\n",
    "stage3['Stage']='Deep'\n",
    "stage4=pd.DataFrame()\n",
    "stage4['Value']=stage['Awake']\n",
    "stage4['Quality']=stage['Quality']\n",
    "stage4['Stage']='Awake'\n",
    "stageall=pd.concat([stage1,stage2,stage3,stage4],ignore_index=True)"
   ]
  },
  {
   "cell_type": "code",
   "execution_count": 52,
   "metadata": {
    "nbpresent": {
     "id": "3c352e11-d2a5-42f1-aa1a-06b885474e14"
    },
    "slideshow": {
     "slide_type": "skip"
    }
   },
   "outputs": [
    {
     "data": {
      "image/png": "[encoded data removed]",
      "text/plain": [
       "<matplotlib.figure.Figure at 0x18bfbf04978>"
      ]
     },
     "metadata": {},
     "output_type": "display_data"
    }
   ],
   "source": [
    "fig=plt.figure(figsize=(6*1.62,6))\n",
    "sns.set(style=\"white\")\n",
    "sns.boxplot(x='Stage', y='Value',hue='Quality',order=['Awake','Light','Deep','REM'],\n",
    "            hue_order=['less than 6', '6-7 hours', 'more than 7'], data=stageall);\n",
    "plt.savefig('stageboxplot.png',bbox_inches='tight')"
   ]
  },
  {
   "cell_type": "markdown",
   "metadata": {
    "collapsed": true,
    "slideshow": {
     "slide_type": "subslide"
    }
   },
   "source": [
    "<img src='stageboxplot.png' alt='boxplot of the sleep stages orders by quality' class='center'>\n",
    "Sleeping for a fair amount of time actually means that you end up spending less amount of time awake in bed. Sleeping for 6-7 hours actually gives you a marginal advantage in Deep and REM sleep over sleep sleeping less and more."
   ]
  },
  {
   "cell_type": "markdown",
   "metadata": {
    "slideshow": {
     "slide_type": "slide"
    }
   },
   "source": [
    "## Conclusion\n",
    "* Ideally, Niyati should sleep for 6-7 hours everynight with total time time in bed around 7 1/2 hours.\n",
    "* Ideal Bedtime is half hour before or after midnight depending on when she plans to wake up.\n",
    "* The best quality of sleep will have higher percentages of REM and Deep sleep"
   ]
  }
 ],
 "metadata": {
  "anaconda-cloud": {},
  "celltoolbar": "Slideshow",
  "kernelspec": {
   "display_name": "Python [Root]",
   "language": "python",
   "name": "Python [Root]"
  },
  "language_info": {
   "codemirror_mode": {
    "name": "ipython",
    "version": 3
   },
   "file_extension": ".py",
   "mimetype": "text/x-python",
   "name": "python",
   "nbconvert_exporter": "python",
   "pygments_lexer": "ipython3",
   "version": "3.5.2"
  },
  "nbpresent": {
   "slides": {
    "0c2cb664-d9e0-439a-9085-18c4894b88c7": {
     "id": "0c2cb664-d9e0-439a-9085-18c4894b88c7",
     "prev": "0cb0b262-e06e-4cd2-9097-fc9d9d9c131b",
     "regions": {
      "36004af8-f0f1-4552-8c52-72e51fa2e768": {
       "attrs": {
        "height": 0.4,
        "width": 0.8,
        "x": 0.1,
        "y": 0.5
       },
       "content": {
        "cell": "e34e2df4-6289-4b84-afb4-17958e4b1cc8",
        "part": "whole"
       },
       "id": "36004af8-f0f1-4552-8c52-72e51fa2e768"
      },
      "f8bd1586-956d-448c-94ec-34aa25ddeaec": {
       "attrs": {
        "height": 0.8,
        "width": 0.8,
        "x": 0.1,
        "y": 0.1
       },
       "content": {
        "cell": "131a2acd-a716-429d-b77a-ad5e983f365d",
        "part": "whole"
       },
       "id": "f8bd1586-956d-448c-94ec-34aa25ddeaec"
      }
     }
    },
    "0cb0b262-e06e-4cd2-9097-fc9d9d9c131b": {
     "id": "0cb0b262-e06e-4cd2-9097-fc9d9d9c131b",
     "prev": "c68e4958-83f1-4178-b90b-ad261c27925b",
     "regions": {
      "e6cb38bf-2b34-44f0-99c4-7cabb8eaa4d3": {
       "attrs": {
        "height": 0.4,
        "width": 0.8,
        "x": 0.1,
        "y": 0.5
       },
       "content": {
        "cell": "49f275c9-bdb5-45cb-a8bd-9ed2e558a1bd",
        "part": "whole"
       },
       "id": "e6cb38bf-2b34-44f0-99c4-7cabb8eaa4d3"
      },
      "f3df7a26-8da3-47f6-94e6-d8f778ec2568": {
       "attrs": {
        "height": 0.8,
        "width": 0.8,
        "x": 0.1,
        "y": 0.1
       },
       "content": {
        "cell": "787bf6c6-480f-40c5-aa0a-916a68bd3a9d",
        "part": "whole"
       },
       "id": "f3df7a26-8da3-47f6-94e6-d8f778ec2568"
      }
     }
    },
    "17d0f61c-a1a8-41c8-9759-869a304941be": {
     "id": "17d0f61c-a1a8-41c8-9759-869a304941be",
     "prev": "4e9ae40c-a905-4a98-9ca4-2a764a8876f3",
     "regions": {
      "648226f0-97ef-48b5-bd40-1d14bf7a012b": {
       "attrs": {
        "height": 0.4,
        "width": 0.8,
        "x": 0.1,
        "y": 0.5
       },
       "content": {
        "cell": "4dcc3e64-97db-49b8-bbb4-a39ff4fc6b3a",
        "part": "whole"
       },
       "id": "648226f0-97ef-48b5-bd40-1d14bf7a012b"
      },
      "7b6b0c2e-7b1c-409b-91b5-b8c39f388474": {
       "attrs": {
        "height": 0.8,
        "width": 0.8,
        "x": 0.1,
        "y": 0.1
       },
       "content": {
        "cell": "3c352e11-d2a5-42f1-aa1a-06b885474e14",
        "part": "whole"
       },
       "id": "7b6b0c2e-7b1c-409b-91b5-b8c39f388474"
      }
     }
    },
    "4a974522-f30d-471e-86c7-1d866458351c": {
     "id": "4a974522-f30d-471e-86c7-1d866458351c",
     "prev": "5c6ce349-3435-444f-8f15-e99cec2c4daa",
     "regions": {
      "05b4ad36-6990-4e70-9d86-67e61f1ed3e3": {
       "attrs": {
        "height": 0.8,
        "width": 0.8,
        "x": 0.1,
        "y": 0.1
       },
       "content": {
        "cell": "594342dc-77a3-4a74-b2b3-e4db7044b2a3",
        "part": "whole"
       },
       "id": "05b4ad36-6990-4e70-9d86-67e61f1ed3e3"
      }
     }
    },
    "4e9ae40c-a905-4a98-9ca4-2a764a8876f3": {
     "id": "4e9ae40c-a905-4a98-9ca4-2a764a8876f3",
     "prev": "f5aa862e-139e-4d56-a8f5-7f85feadace4",
     "regions": {
      "d22c35e4-d430-43a0-920a-7fb807dcc72c": {
       "attrs": {
        "height": 0.8,
        "width": 0.8,
        "x": 0.1,
        "y": 0.1
       },
       "content": {
        "cell": "748ea25b-c3a6-4e95-9400-1e903364cd24",
        "part": "whole"
       },
       "id": "d22c35e4-d430-43a0-920a-7fb807dcc72c"
      }
     }
    },
    "5c6ce349-3435-444f-8f15-e99cec2c4daa": {
     "id": "5c6ce349-3435-444f-8f15-e99cec2c4daa",
     "prev": "0c2cb664-d9e0-439a-9085-18c4894b88c7",
     "regions": {
      "541e8aa4-293e-4048-b435-19ac8a6a3f96": {
       "attrs": {
        "height": 0.4,
        "width": 0.8,
        "x": 0.1,
        "y": 0.5
       },
       "content": {
        "cell": "39929644-9472-44a4-aaff-2e9219531c79",
        "part": "whole"
       },
       "id": "541e8aa4-293e-4048-b435-19ac8a6a3f96"
      },
      "54747bf7-f9a5-4272-b09e-f874e121751d": {
       "attrs": {
        "height": 0.8,
        "width": 0.8,
        "x": 0.1,
        "y": 0.1
       },
       "content": {
        "cell": "61aa3793-d539-48e9-9e0f-8215780c13c0",
        "part": "whole"
       },
       "id": "54747bf7-f9a5-4272-b09e-f874e121751d"
      }
     }
    },
    "7f293834-73cc-449e-b21f-5e4c8eee0eb2": {
     "id": "7f293834-73cc-449e-b21f-5e4c8eee0eb2",
     "prev": "e9193d50-ab4e-42d0-98d5-e8e60527181d",
     "regions": {
      "a1c0575d-2c28-4114-9720-93d9186811eb": {
       "attrs": {
        "height": 0.8,
        "width": 0.8,
        "x": 0.1,
        "y": 0.1
       },
       "content": {
        "cell": "b23dff09-77a4-41ec-a38a-5f409a1d8499",
        "part": "whole"
       },
       "id": "a1c0575d-2c28-4114-9720-93d9186811eb"
      },
      "b4a3ecb1-770c-4e89-aea4-2160eaa2a24d": {
       "attrs": {
        "height": 0.4,
        "width": 0.8,
        "x": 0.1,
        "y": 0.5
       },
       "content": {
        "cell": "18429458-644c-4f45-88fa-df33d7fbf32a",
        "part": "whole"
       },
       "id": "b4a3ecb1-770c-4e89-aea4-2160eaa2a24d"
      },
      "ff20f11f-b6e7-4a72-b8d7-3129fc490212": {
       "attrs": {
        "height": 0.4,
        "width": 0.8,
        "x": 0.1,
        "y": 0.5
       },
       "content": {
        "cell": "651df863-14f7-4b3e-8e4d-7c3503e9d933",
        "part": "whole"
       },
       "id": "ff20f11f-b6e7-4a72-b8d7-3129fc490212"
      }
     }
    },
    "99dfc1b0-4a68-4325-a670-363a701c57d6": {
     "id": "99dfc1b0-4a68-4325-a670-363a701c57d6",
     "prev": "4a974522-f30d-471e-86c7-1d866458351c",
     "regions": {
      "d32327d3-013a-4bcd-8ba6-4f9c89d21878": {
       "attrs": {
        "height": 0.8,
        "width": 0.8,
        "x": 0.1,
        "y": 0.1
       },
       "content": {
        "cell": "22a3bd2e-d9a1-47b4-b5a0-00955098a410",
        "part": "whole"
       },
       "id": "d32327d3-013a-4bcd-8ba6-4f9c89d21878"
      },
      "d438c786-976e-4e4e-84ee-fc2a541a0902": {
       "attrs": {
        "height": 0.4,
        "width": 0.8,
        "x": 0.1,
        "y": 0.5
       },
       "content": {
        "cell": "df7b3e27-68bf-46d1-96b3-ddd00e7441d4",
        "part": "whole"
       },
       "id": "d438c786-976e-4e4e-84ee-fc2a541a0902"
      }
     }
    },
    "c68e4958-83f1-4178-b90b-ad261c27925b": {
     "id": "c68e4958-83f1-4178-b90b-ad261c27925b",
     "prev": "7f293834-73cc-449e-b21f-5e4c8eee0eb2",
     "regions": {
      "73deb747-a7e6-4bb1-a951-f1c01eaccce3": {
       "attrs": {
        "height": 0.8,
        "width": 0.8,
        "x": 0.1,
        "y": 0.1
       },
       "content": {
        "cell": "d66f70b0-c6e1-4a99-9525-2c065f28b052",
        "part": "whole"
       },
       "id": "73deb747-a7e6-4bb1-a951-f1c01eaccce3"
      },
      "dd89d875-25a4-4fc2-9e61-aae77d7f388c": {
       "attrs": {
        "height": 0.4,
        "width": 0.8,
        "x": 0.1,
        "y": 0.5
       },
       "content": {
        "cell": "769829ce-e3a7-4722-9ae5-cbe3f7e93f9b",
        "part": "whole"
       },
       "id": "dd89d875-25a4-4fc2-9e61-aae77d7f388c"
      }
     }
    },
    "e9193d50-ab4e-42d0-98d5-e8e60527181d": {
     "id": "e9193d50-ab4e-42d0-98d5-e8e60527181d",
     "layout": "treemap",
     "prev": null,
     "regions": {
      "e5f185dc-1b18-4fc9-a589-07ded312b881": {
       "attrs": {
        "height": 1,
        "treemap:weight": 1,
        "width": 1,
        "x": 0,
        "y": 0
       },
       "id": "e5f185dc-1b18-4fc9-a589-07ded312b881"
      }
     }
    },
    "f5aa862e-139e-4d56-a8f5-7f85feadace4": {
     "id": "f5aa862e-139e-4d56-a8f5-7f85feadace4",
     "prev": "99dfc1b0-4a68-4325-a670-363a701c57d6",
     "regions": {
      "bc58a50a-b869-45e3-b395-d8c4a100ccaf": {
       "attrs": {
        "height": 0.8,
        "width": 0.8,
        "x": 0.1,
        "y": 0.1
       },
       "content": {
        "cell": "edc37caf-4fb9-4e77-ab85-005afb2426d6",
        "part": "whole"
       },
       "id": "bc58a50a-b869-45e3-b395-d8c4a100ccaf"
      }
     }
    }
   },
   "themes": {}
  }
 },
 "nbformat": 4,
 "nbformat_minor": 2
}
