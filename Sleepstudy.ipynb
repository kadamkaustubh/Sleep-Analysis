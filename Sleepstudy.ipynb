{
 "cells": [
  {
   "cell_type": "markdown",
   "metadata": {
    "slideshow": {
     "slide_type": "slide"
    }
   },
   "source": [
    "# Niyati's Sleep Analysis\n",
    "Niyati's sleep data from Feb, 1 to May, 31 as collected by her Fitbit  \n",
    "\n",
    "**Objectives**: \n",
    "1. Gain insight into Niyati's Sleeping patterns\n",
    "2. Learn to use and implement python's statistical tools"
   ]
  },
  {
   "cell_type": "markdown",
   "metadata": {
    "slideshow": {
     "slide_type": "subslide"
    }
   },
   "source": [
    "Questions I'm trying to answer:\n",
    "* General data collection. \n",
    "    1. How long does she normally sleep? \n",
    "    2. When does she go to bed? etc."
   ]
  },
  {
   "cell_type": "markdown",
   "metadata": {
    "slideshow": {
     "slide_type": "fragment"
    }
   },
   "source": [
    "* Getting more insight.\n",
    "    1. Using the collected data, can we speculate what the ideal sleep period can be?\n",
    "    2. What should be the ideal bedtime?"
   ]
  },
  {
   "cell_type": "markdown",
   "metadata": {
    "slideshow": {
     "slide_type": "fragment"
    }
   },
   "source": [
    "* Sleep Stages.\n",
    "    1. How does the amount of sleep affect the quality of sleep?"
   ]
  },
  {
   "cell_type": "code",
   "execution_count": 27,
   "metadata": {
    "slideshow": {
     "slide_type": "skip"
    }
   },
   "outputs": [],
   "source": [
    "#import relevant librabries\n",
    "import numpy as np\n",
    "import pandas as pd\n",
    "import matplotlib.pyplot as plt\n",
    "%matplotlib inline\n",
    "import requests\n",
    "from bs4 import BeautifulSoup as bs\n",
    "import seaborn as sns\n",
    "import datetime as dt\n",
    "from matplotlib import gridspec\n",
    "from matplotlib import dates\n",
    "from scipy.stats import linregress\n",
    "from scipy import stats"
   ]
  },
  {
   "cell_type": "code",
   "execution_count": 28,
   "metadata": {
    "slideshow": {
     "slide_type": "skip"
    }
   },
   "outputs": [
    {
     "name": "stdout",
     "output_type": "stream",
     "text": [
      "(105, 9)\n"
     ]
    },
    {
     "data": {
      "text/plain": [
       "Index(['Start Time', 'End Time', 'Minutes Asleep', 'Minutes Awake',\n",
       "       'Number of Awakenings', 'Time in Bed', 'Minutes REM Sleep',\n",
       "       'Minutes Light Sleep', 'Minutes Deep Sleep'],\n",
       "      dtype='object')"
      ]
     },
     "execution_count": 28,
     "metadata": {},
     "output_type": "execute_result"
    }
   ],
   "source": [
    "sleep=pd.read_csv('niyatisleep.csv',header=0)\n",
    "sleep=sleep.dropna(axis=0, how='any')\n",
    "print(sleep.shape)\n",
    "sleep.keys()"
   ]
  },
  {
   "cell_type": "markdown",
   "metadata": {
    "slideshow": {
     "slide_type": "slide"
    }
   },
   "source": [
    "## Data imported from Fitbit:\n",
    "``` python \n",
    "['Start Time', 'End Time', 'Minutes Asleep', 'Minutes Awake','Number of Awakenings',\n",
    " 'Time in Bed', 'Minutes REM Sleep','Minutes Light Sleep', 'Minutes Deep Sleep']\n",
    "```"
   ]
  },
  {
   "cell_type": "markdown",
   "metadata": {
    "slideshow": {
     "slide_type": "fragment"
    }
   },
   "source": [
    "However, this data needs to be cleaned before we can apply some features."
   ]
  },
  {
   "cell_type": "markdown",
   "metadata": {
    "slideshow": {
     "slide_type": "subslide"
    }
   },
   "source": [
    "Here we convert the timestamps into python's datetime objects, sort the data chronologically, define days of the week and assign a timecode to sleep time and wake time."
   ]
  },
  {
   "cell_type": "code",
   "execution_count": 29,
   "metadata": {
    "slideshow": {
     "slide_type": "fragment"
    }
   },
   "outputs": [],
   "source": [
    "# Convert Start time and End time into python compatible datetime entries\n",
    "sleep['Start Time']=[dt.datetime.strptime(sleep.loc[i,'Start Time'],'%Y-%m-%d %I:%M%p') for i in sleep.index]\n",
    "sleep['End Time']=[dt.datetime.strptime(sleep.loc[i,'End Time'],'%Y-%m-%d %I:%M%p') for i in sleep.index]\n",
    "#chronological sort\n",
    "sleep=sleep.sort_values(by='Start Time')\n",
    "#Define Days of the week\n",
    "sleep['Day']=[sleep.loc[i,'End Time'].strftime('%A') for i in sleep.index]\n",
    "#Adding time objects\n",
    "sleep['Sleep Time']=[sleep.loc[i,'Start Time'].time() for i in sleep.index]\n",
    "sleep['Wake Time']=[sleep.loc[i,'End Time'].time() for i in sleep.index]"
   ]
  },
  {
   "cell_type": "markdown",
   "metadata": {
    "slideshow": {
     "slide_type": "subslide"
    }
   },
   "source": [
    "### A sample of the data available from Fitbit and additional data extracted for analysis"
   ]
  },
  {
   "cell_type": "code",
   "execution_count": 30,
   "metadata": {
    "slideshow": {
     "slide_type": "fragment"
    }
   },
   "outputs": [
    {
     "data": {
      "text/html": [
       "<div>\n",
       "<style scoped>\n",
       "    .dataframe tbody tr th:only-of-type {\n",
       "        vertical-align: middle;\n",
       "    }\n",
       "\n",
       "    .dataframe tbody tr th {\n",
       "        vertical-align: top;\n",
       "    }\n",
       "\n",
       "    .dataframe thead th {\n",
       "        text-align: right;\n",
       "    }\n",
       "</style>\n",
       "<table border=\"1\" class=\"dataframe\">\n",
       "  <thead>\n",
       "    <tr style=\"text-align: right;\">\n",
       "      <th></th>\n",
       "      <th>Start Time</th>\n",
       "      <th>End Time</th>\n",
       "      <th>Minutes Asleep</th>\n",
       "      <th>Minutes Awake</th>\n",
       "      <th>Number of Awakenings</th>\n",
       "      <th>Time in Bed</th>\n",
       "      <th>Minutes REM Sleep</th>\n",
       "      <th>Minutes Light Sleep</th>\n",
       "      <th>Minutes Deep Sleep</th>\n",
       "      <th>Day</th>\n",
       "      <th>Sleep Time</th>\n",
       "      <th>Wake Time</th>\n",
       "    </tr>\n",
       "  </thead>\n",
       "  <tbody>\n",
       "    <tr>\n",
       "      <th>28</th>\n",
       "      <td>2018-02-01 00:15:00</td>\n",
       "      <td>2018-02-01 07:29:00</td>\n",
       "      <td>376</td>\n",
       "      <td>58</td>\n",
       "      <td>26</td>\n",
       "      <td>434</td>\n",
       "      <td>115.0</td>\n",
       "      <td>159.0</td>\n",
       "      <td>102.0</td>\n",
       "      <td>Thursday</td>\n",
       "      <td>00:15:00</td>\n",
       "      <td>07:29:00</td>\n",
       "    </tr>\n",
       "    <tr>\n",
       "      <th>27</th>\n",
       "      <td>2018-02-02 00:36:00</td>\n",
       "      <td>2018-02-02 07:02:00</td>\n",
       "      <td>323</td>\n",
       "      <td>63</td>\n",
       "      <td>25</td>\n",
       "      <td>386</td>\n",
       "      <td>36.0</td>\n",
       "      <td>229.0</td>\n",
       "      <td>58.0</td>\n",
       "      <td>Friday</td>\n",
       "      <td>00:36:00</td>\n",
       "      <td>07:02:00</td>\n",
       "    </tr>\n",
       "    <tr>\n",
       "      <th>26</th>\n",
       "      <td>2018-02-03 00:36:00</td>\n",
       "      <td>2018-02-03 08:33:00</td>\n",
       "      <td>434</td>\n",
       "      <td>43</td>\n",
       "      <td>21</td>\n",
       "      <td>477</td>\n",
       "      <td>96.0</td>\n",
       "      <td>253.0</td>\n",
       "      <td>85.0</td>\n",
       "      <td>Saturday</td>\n",
       "      <td>00:36:00</td>\n",
       "      <td>08:33:00</td>\n",
       "    </tr>\n",
       "    <tr>\n",
       "      <th>25</th>\n",
       "      <td>2018-02-04 01:42:00</td>\n",
       "      <td>2018-02-04 09:12:00</td>\n",
       "      <td>378</td>\n",
       "      <td>72</td>\n",
       "      <td>26</td>\n",
       "      <td>450</td>\n",
       "      <td>109.0</td>\n",
       "      <td>199.0</td>\n",
       "      <td>70.0</td>\n",
       "      <td>Sunday</td>\n",
       "      <td>01:42:00</td>\n",
       "      <td>09:12:00</td>\n",
       "    </tr>\n",
       "    <tr>\n",
       "      <th>24</th>\n",
       "      <td>2018-02-04 23:05:00</td>\n",
       "      <td>2018-02-05 07:06:00</td>\n",
       "      <td>428</td>\n",
       "      <td>53</td>\n",
       "      <td>28</td>\n",
       "      <td>481</td>\n",
       "      <td>121.0</td>\n",
       "      <td>190.0</td>\n",
       "      <td>117.0</td>\n",
       "      <td>Monday</td>\n",
       "      <td>23:05:00</td>\n",
       "      <td>07:06:00</td>\n",
       "    </tr>\n",
       "  </tbody>\n",
       "</table>\n",
       "</div>"
      ],
      "text/plain": [
       "            Start Time            End Time  Minutes Asleep  Minutes Awake  \\\n",
       "28 2018-02-01 00:15:00 2018-02-01 07:29:00             376             58   \n",
       "27 2018-02-02 00:36:00 2018-02-02 07:02:00             323             63   \n",
       "26 2018-02-03 00:36:00 2018-02-03 08:33:00             434             43   \n",
       "25 2018-02-04 01:42:00 2018-02-04 09:12:00             378             72   \n",
       "24 2018-02-04 23:05:00 2018-02-05 07:06:00             428             53   \n",
       "\n",
       "    Number of Awakenings  Time in Bed  Minutes REM Sleep  Minutes Light Sleep  \\\n",
       "28                    26          434              115.0                159.0   \n",
       "27                    25          386               36.0                229.0   \n",
       "26                    21          477               96.0                253.0   \n",
       "25                    26          450              109.0                199.0   \n",
       "24                    28          481              121.0                190.0   \n",
       "\n",
       "    Minutes Deep Sleep       Day Sleep Time Wake Time  \n",
       "28               102.0  Thursday   00:15:00  07:29:00  \n",
       "27                58.0    Friday   00:36:00  07:02:00  \n",
       "26                85.0  Saturday   00:36:00  08:33:00  \n",
       "25                70.0    Sunday   01:42:00  09:12:00  \n",
       "24               117.0    Monday   23:05:00  07:06:00  "
      ]
     },
     "execution_count": 30,
     "metadata": {},
     "output_type": "execute_result"
    }
   ],
   "source": [
    "sleep.head(5)"
   ]
  },
  {
   "cell_type": "code",
   "execution_count": 31,
   "metadata": {
    "slideshow": {
     "slide_type": "skip"
    }
   },
   "outputs": [],
   "source": [
    "daymean=sleep.groupby(['Day']).mean()['Minutes Asleep']\n",
    "daymedian=sleep.groupby(['Day']).median()['Minutes Asleep']\n",
    "daydev=sleep.groupby(['Day']).std()['Minutes Asleep']"
   ]
  },
  {
   "cell_type": "markdown",
   "metadata": {
    "slideshow": {
     "slide_type": "slide"
    }
   },
   "source": [
    "## Sleep according to the day of the week"
   ]
  },
  {
   "cell_type": "code",
   "execution_count": 32,
   "metadata": {
    "slideshow": {
     "slide_type": "skip"
    }
   },
   "outputs": [
    {
     "data": {
      "image/png": "[encoded data removed]",
      "text/plain": [
       "<Figure size 432x288 with 1 Axes>"
      ]
     },
     "metadata": {},
     "output_type": "display_data"
    }
   ],
   "source": [
    "sns.set_style(\"whitegrid\")\n",
    "daysorder=['Monday','Tuesday','Wednesday','Thursday','Friday','Saturday','Sunday']\n",
    "ax = sns.barplot(x='Day',y='Minutes Asleep',capsize=0.2,order=daysorder,data=sleep)\n",
    "axis=ax.axes\n",
    "axis.set_ylim(320,422)\n",
    "hourticks=np.array([330+30*i for i in range(4)])\n",
    "axis.set_yticks(hourticks)\n",
    "axis.set_yticklabels(hourticks/60)\n",
    "axis.set_ylabel('Hours Asleep')\n",
    "plt.savefig('daysleep.png', bbox_inches='tight')"
   ]
  },
  {
   "cell_type": "markdown",
   "metadata": {
    "slideshow": {
     "slide_type": "fragment"
    }
   },
   "source": [
    "![daysleep](daysleep.png)\n",
    "<center>There is no significant predictable variation in hours asleep depending on the day of the week. The lack of a 9-5 work schedule is primarily resposible for the lack of the typical sleeping pattern of less sleep during weekdays and more during weeekends. Median hours Asleep fall in a tight 30 minute window</center>"
   ]
  },
  {
   "cell_type": "code",
   "execution_count": 34,
   "metadata": {
    "slideshow": {
     "slide_type": "skip"
    }
   },
   "outputs": [
    {
     "data": {
      "image/png": "[encoded data removed]",
      "text/plain": [
       "<Figure size 1008x432 with 2 Axes>"
      ]
     },
     "metadata": {},
     "output_type": "display_data"
    }
   ],
   "source": [
    "f=plt.figure(figsize=(14,6))\n",
    "sns.set_style(\"darkgrid\")\n",
    "gs = gridspec.GridSpec(1,2,wspace=0.0, width_ratios=[4, 10]) \n",
    "ax= plt.subplot(gs[0,0])\n",
    "ax.scatter(list(sleep['Sleep Time']),sleep['Minutes Asleep']/60,color='tab:blue')\n",
    "ax.set_xlim([dt.time(20, 0), dt.time(23,59,59)])\n",
    "ax.set_xticks([dt.time.strftime(dt.time(i, 0),'%H:%M') for i in range(20,24)])\n",
    "ax.set_xticklabels([dt.time.strftime(dt.time(i, 0),'%H:%M') for i in range(20,24)])\n",
    "ax.tick_params(axis='both', which='major', labelsize=15)\n",
    "ax.set_ylim([3,9])\n",
    "plt.xlabel('')\n",
    "ax.set_ylabel('Hours Asleep', fontsize=15)\n",
    "ax2=plt.subplot(gs[0,1])\n",
    "ax2.scatter(list(sleep['Sleep Time']),sleep['Minutes Asleep']/60,color='tab:blue')\n",
    "ax2.scatter(list(sleep['Wake Time']),sleep['Minutes Asleep']/60,color='tab:green')\n",
    "ax2.set_xlim([dt.time(0, 0), dt.time(10,0)])\n",
    "ax2.set_ylim([3,9])\n",
    "ax2.set_xticks([dt.time(i, 0) for i in range(11)])\n",
    "ax2.set_xticklabels([dt.time.strftime(dt.time(i, 0),'%H:%M') for i in range(11)])\n",
    "ax2.set_yticklabels([])\n",
    "ax2.tick_params(axis='both', which='major', labelsize=15)\n",
    "plt.xlabel('')\n",
    "plt.tight_layout()\n",
    "plt.savefig('hoursawake.png', bbox_inches='tight')"
   ]
  },
  {
   "cell_type": "markdown",
   "metadata": {
    "slideshow": {
     "slide_type": "slide"
    }
   },
   "source": [
    "## Bedtime and Waketime distribution\n",
    "![hoursawake](hoursawake.png)\n",
    "<center>There seems to be a clear inverse relationship between the bedtime and hours asleep. The earlier you sleep, you end up actually sleeping more than you usually would. The ideal bedtime window lies between 11PM and 1AM, which will most likely end up providing the necessary 6-7 hours of sleep.</center>"
   ]
  },
  {
   "cell_type": "code",
   "execution_count": 159,
   "metadata": {
    "slideshow": {
     "slide_type": "slide"
    }
   },
   "outputs": [],
   "source": [
    "time=pd.DataFrame()\n",
    "time['Hours Asleep']=sleep['Minutes Asleep']/60\n",
    "time['Sleep Time']=sleep['Sleep Time']\n",
    "time['minutes']=0\n",
    "for i in time.index:\n",
    "    time.loc[i,'minutes']=time.loc[i,'Sleep Time'].hour*60+time.loc[i,'Sleep Time'].minute\n",
    "    if time.loc[i,'minutes']>1000:\n",
    "        time.loc[i,'minutes']=time.loc[i,'minutes']-24*60"
   ]
  },
  {
   "cell_type": "code",
   "execution_count": 161,
   "metadata": {
    "slideshow": {
     "slide_type": "slide"
    }
   },
   "outputs": [
    {
     "data": {
      "image/png": "[encoded data removed]",
      "text/plain": [
       "<matplotlib.figure.Figure at 0x2594ca0ecf8>"
      ]
     },
     "metadata": {},
     "output_type": "display_data"
    }
   ],
   "source": [
    "sns.set_style(\"darkgrid\")\n",
    "g = sns.JointGrid(x=\"minutes\", y=\"Hours Asleep\", data=time, ratio=100)\n",
    "g.plot_joint(sns.regplot)\n",
    "g.annotate(stats.pearsonr,fontsize=14)\n",
    "g.ax_marg_x.set_axis_off()\n",
    "g.ax_marg_y.set_axis_off()\n",
    "plt.xticks([-240,-180,-120,-60,0,60,120,180,240]);\n",
    "g.set_axis_labels('Time', 'Hours Asleep')\n",
    "g.ax_joint.set_xticklabels([dt.time.strftime(dt.time(i, 0),'%H:%M') for i in range(20,24)]+\n",
    "                           [dt.time.strftime(dt.time(i, 0),'%H:%M') for i in range(5)]);"
   ]
  },
  {
   "cell_type": "code",
   "execution_count": 162,
   "metadata": {
    "slideshow": {
     "slide_type": "slide"
    }
   },
   "outputs": [],
   "source": [
    "stage=pd.DataFrame()\n",
    "stage['REM']=sleep['Minutes REM Sleep']/sleep['Time in Bed']*100\n",
    "stage['Light']=sleep['Minutes Light Sleep']/sleep['Time in Bed']*100\n",
    "stage['Deep']=sleep['Minutes Deep Sleep']/sleep['Time in Bed']*100\n",
    "stage['Awake']=sleep['Minutes Awake']/sleep['Time in Bed']*100\n",
    "stage['Quality']='fair'\n",
    "for i in stage.index:\n",
    "    if sleep.loc[i,'Minutes Asleep']/60<=6:\n",
    "        stage.loc[i,'Quality']='less'\n",
    "    elif sleep.loc[i,'Minutes Asleep']/60>7:\n",
    "        stage.loc[i,'Quality']='more'"
   ]
  },
  {
   "cell_type": "code",
   "execution_count": 163,
   "metadata": {
    "collapsed": true,
    "slideshow": {
     "slide_type": "skip"
    }
   },
   "outputs": [],
   "source": [
    "stage1=pd.DataFrame()\n",
    "stage1['Value']=stage['REM']\n",
    "stage1['Stage']='REM'\n",
    "stage1['Quality']=stage['Quality']\n",
    "stage2=pd.DataFrame()\n",
    "stage2['Value']=stage['Light']\n",
    "stage2['Quality']=stage['Quality']\n",
    "stage2['Stage']='Light'\n",
    "stage3=pd.DataFrame()\n",
    "stage3['Value']=stage['Deep']\n",
    "stage3['Quality']=stage['Quality']\n",
    "stage3['Stage']='Deep'\n",
    "stage4=pd.DataFrame()\n",
    "stage4['Value']=stage['Awake']\n",
    "stage4['Quality']=stage['Quality']\n",
    "stage4['Stage']='Awake'\n",
    "stageall=pd.concat([stage1,stage2,stage3,stage4],ignore_index=True)"
   ]
  },
  {
   "cell_type": "code",
   "execution_count": 164,
   "metadata": {
    "slideshow": {
     "slide_type": "slide"
    }
   },
   "outputs": [
    {
     "data": {
      "image/png": "[encoded data removed]",
      "text/plain": [
       "<matplotlib.figure.Figure at 0x259487a9518>"
      ]
     },
     "metadata": {},
     "output_type": "display_data"
    }
   ],
   "source": [
    "sns.set(style=\"white\")\n",
    "sns.boxplot(x='Stage', y='Value',hue='Quality',order=['Awake','Light','Deep','REM'],\n",
    "            hue_order=['less', 'fair', 'more'], data=stageall)\n",
    "sns.despine()"
   ]
  },
  {
   "cell_type": "code",
   "execution_count": null,
   "metadata": {
    "collapsed": true
   },
   "outputs": [],
   "source": []
  }
 ],
 "metadata": {
  "anaconda-cloud": {},
  "celltoolbar": "Slideshow",
  "kernelspec": {
   "display_name": "Python 3",
   "language": "python",
   "name": "python3"
  },
  "language_info": {
   "codemirror_mode": {
    "name": "ipython",
    "version": 3
   },
   "file_extension": ".py",
   "mimetype": "text/x-python",
   "name": "python",
   "nbconvert_exporter": "python",
   "pygments_lexer": "ipython3",
   "version": "3.6.5"
  }
 },
 "nbformat": 4,
 "nbformat_minor": 2
}
